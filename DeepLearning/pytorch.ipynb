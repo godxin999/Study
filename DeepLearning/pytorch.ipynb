{
 "cells": [
  {
   "cell_type": "code",
   "execution_count": 16,
   "metadata": {},
   "outputs": [
    {
     "name": "stdout",
     "output_type": "stream",
     "text": [
      "torch.float32\n",
      "torch.Size([1, 2])\n",
      "cpu\n"
     ]
    }
   ],
   "source": [
    "import torch\n",
    "import numpy as np\n",
    "\n",
    "# 从列表创建张量\n",
    "a=[1,2,3.]\n",
    "b=torch.tensor(a) \n",
    "print(type(b)) # <class 'torch.Tensor'>\n",
    "print(b.dtype)  # torch.float32\n",
    "\n",
    "# 从numpy数组创建张量\n",
    "a=np.random.normal((2,3))\n",
    "b=torch.tensor(a) \n",
    "print(b) # tensor([2.2654, 2.8027], dtype=torch.float64)\n",
    "\n",
    "# 从张量创建张量\n",
    "c=torch.ones_like(b) #创建与b形状相同的全1张量\n",
    "print(c) # tensor([1., 1.], dtype=torch.float64)\n",
    "c=torch.zeros_like(b) #创建与b形状相同的全0张量\n",
    "print(c) # tensor([0., 0.], dtype=torch.float64)\n",
    "c=torch.rand_like(b) #创建与b形状相同的随机张量\n",
    "# print(c)  # tensor([0.4036, 0.9059], dtype=torch.float64)\n",
    "\n",
    "# 从指定形状创建随机张量(元组和列表)\n",
    "print(torch.rand((2,2)))\n",
    "print(torch.ones([2,2]))\n",
    "print(torch.zeros([2,2]))"
   ]
  },
  {
   "cell_type": "code",
   "execution_count": 17,
   "metadata": {},
   "outputs": [
    {
     "name": "stdout",
     "output_type": "stream",
     "text": [
      "torch.float32\n",
      "torch.Size([1, 2])\n",
      "cpu\n"
     ]
    }
   ],
   "source": [
    "# 张量的属性\n",
    "a = torch.rand((1, 2))\n",
    "print(a.dtype)  # torch.float32\n",
    "print(a.shape)  # torch.Size([1, 2])\n",
    "print(a.device)  # cpu"
   ]
  },
  {
   "cell_type": "code",
   "execution_count": 60,
   "metadata": {},
   "outputs": [
    {
     "name": "stdout",
     "output_type": "stream",
     "text": [
      "True\n",
      "False\n",
      "False\n",
      "True\n",
      "False\n",
      "16\n",
      "tensor([0, 1, 2, 3, 4])\n",
      "tensor([0, 2, 4])\n",
      "tensor([[1., 0., 0.],\n",
      "        [0., 1., 0.],\n",
      "        [0., 0., 1.]])\n",
      "tensor([[1., 0.],\n",
      "        [0., 1.],\n",
      "        [0., 0.]])\n",
      "tensor([[5, 5],\n",
      "        [5, 5]])\n",
      "tensor([[5.],\n",
      "        [5.],\n",
      "        [5.]])\n",
      "tensor([[0.0490, 0.1011, 0.8945, 0.8467, 0.6789],\n",
      "        [0.3001, 0.9983, 0.9483, 0.9997, 0.0160]])\n",
      "tensor([[0.5864, 0.7532],\n",
      "        [0.1382, 0.6743],\n",
      "        [0.0912, 0.3669],\n",
      "        [0.3023, 0.8548],\n",
      "        [0.1923, 0.7357]])\n",
      "(tensor([[0.6349, 0.4103],\n",
      "        [0.4556, 0.7916]]), tensor([[0.1846, 0.2449]]))\n",
      "tensor([[0.6349],\n",
      "        [0.4556],\n",
      "        [0.1846]])\n",
      "tensor([[0.4103],\n",
      "        [0.7916],\n",
      "        [0.2449]])\n",
      "tensor([[1, 1],\n",
      "        [4, 3]])\n",
      "tensor([[1, 2],\n",
      "        [3, 2]])\n",
      "tensor([[0, 1],\n",
      "        [2, 3]])\n",
      "tensor([0, 1, 2, 3])\n",
      "tensor([[ 1,  2,  3,  4,  5],\n",
      "        [ 6,  7,  8,  9, 10]])\n",
      "tensor([[1, 0, 0, 4, 0],\n",
      "        [0, 2, 0, 0, 0],\n",
      "        [0, 0, 3, 0, 0]])\n",
      "tensor([[2, 1, 1, 5, 1],\n",
      "        [1, 3, 1, 1, 1],\n",
      "        [1, 1, 4, 1, 1]])\n"
     ]
    }
   ],
   "source": [
    "# 张量的操作\n",
    "\n",
    "print(torch.is_tensor(a))  # True\n",
    "print(torch.is_complex(a))  # False\n",
    "print(torch.is_floating_point(a))  # True\n",
    "\n",
    "a=torch.tensor(1.)\n",
    "print(torch.is_nonzero(a))  # True\n",
    "print(torch.is_nonzero(torch.tensor(0.)))  # False\n",
    "print(torch.numel(torch.rand((4,4)))) # 16，返回张量元素个数\n",
    "print(torch.arange(5))  # tensor([0, 1, 2, 3, 4])\n",
    "print(torch.arange(0,5,2)) # tensor([0, 2, 4])\n",
    "print(torch.eye(3)) # 创建单位矩阵\n",
    "print(torch.eye(3,2)) # 创建3x2的单位矩阵\n",
    "print(torch.full((2,2),5)) # 创建2x2的全5张量\n",
    "print(torch.full_like(b,5)) # 创建与b形状相同的全5张量\n",
    "a=torch.rand((2,2))\n",
    "b=torch.rand((2,3))\n",
    "print(torch.cat((a,b),dim=1)) # 按列拼接(第二个维度，下标从0开始)，要求其余维度相同\n",
    "a=torch.rand((2,2))\n",
    "b=torch.rand((3,2))\n",
    "print(torch.cat((a,b),dim=0)) # 按行拼接(第一个维度，下标从0开始)，要求其余维度相同\n",
    "\n",
    "a=torch.rand((3,2))\n",
    "print(torch.chunk(a,chunks=2)) #将张量按行分割为2块\n",
    "b,c=torch.chunk(a,chunks=2,dim=1) #将张量按列分割为2块\n",
    "print(b)\n",
    "print(c)\n",
    "\n",
    "# output[i][j][k]=input[index[i][j][k]][j][k] if dim=0\n",
    "# output[i][j][k]=input[i][index[i][j][k]][k] if dim=1\n",
    "# output[i][j][k]=input[i][j][index[i][j][k]] if dim=2\n",
    "t=torch.tensor([[1,2],[3,4]])\n",
    "print(torch.gather(t,1,torch.tensor([[0,0],[1,0]]))) # tensor([[1, 1],[4, 3]])\n",
    "print(torch.gather(t,0,torch.tensor([[0,0],[1,0]]))) # tensor([[1, 2],[3, 2]])\n",
    "\n",
    "a=torch.arange(0,4)\n",
    "print(torch.reshape(a,(2,2))) # tensor([[0, 1],[2, 3]])\n",
    "print(torch.reshape(a,[-1])) # tensor([0, 1, 2, 3])，-1表示变成一维张量\n",
    "\n",
    "# self[index[i][j][k]][j][k] (+)= src[i][j][k] if dim=0\n",
    "# self[i][index[i][j][k]][k] (+)= src[i][j][k] if dim=1\n",
    "# self[i][j][index[i][j][k]] (+)= src[i][j][k] if dim=2\n",
    "src=torch.arange(1,11).reshape((2,5))\n",
    "print(src)\n",
    "index=torch.tensor([[0,1,2,0]])\n",
    "print(torch.zeros(3,5,dtype=src.dtype).scatter_(0,index,src)) # tensor([[1, 0, 0, 4, 0],[0, 2, 0, 0, 0],[0, 0, 3, 0, 0]])\n",
    "print(torch.ones(3,5,dtype=src.dtype).scatter_add_(0,index,src)) # tensor([[2, 1, 1, 5, 1],[1, 3, 1, 1, 1],[1, 1, 4, 1, 1]])"
   ]
  }
 ],
 "metadata": {
  "kernelspec": {
   "display_name": "ai",
   "language": "python",
   "name": "python3"
  },
  "language_info": {
   "codemirror_mode": {
    "name": "ipython",
    "version": 3
   },
   "file_extension": ".py",
   "mimetype": "text/x-python",
   "name": "python",
   "nbconvert_exporter": "python",
   "pygments_lexer": "ipython3",
   "version": "3.7.16"
  }
 },
 "nbformat": 4,
 "nbformat_minor": 2
}
